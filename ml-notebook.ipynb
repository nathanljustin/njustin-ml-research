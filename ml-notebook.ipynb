{
 "cells": [
  {
   "cell_type": "code",
   "execution_count": 2,
   "metadata": {},
   "outputs": [],
   "source": [
    "# Imports\n",
    "\n",
    "import csv\n",
    "import math\n",
    "import matplotlib.pyplot as plt\n",
    "from mpl_toolkits.mplot3d import Axes3D\n",
    "import numpy as np\n",
    "import random\n",
    "from scipy.spatial.distance import cdist\n",
    "from sklearn.cluster import KMeans"
   ]
  },
  {
   "cell_type": "code",
   "execution_count": 3,
   "metadata": {},
   "outputs": [],
   "source": [
    "# Get data from a csv file\n",
    "def readcsv(filename):\n",
    "    matrix = []\n",
    "    \n",
    "    with open(filename) as csvfile:\n",
    "        readCSV = csv.reader(csvfile, delimiter=',')\n",
    "        for row in readCSV:\n",
    "            matrix += [row]\n",
    "    return np.array(matrix).astype(float)"
   ]
  },
  {
   "cell_type": "code",
   "execution_count": 4,
   "metadata": {},
   "outputs": [],
   "source": [
    "# Get data by generating it\n",
    "# Make two clusters for now\n",
    "def makedata():\n",
    "    matrix = []\n",
    "    for i in range(2):\n",
    "        numpoints = random.randint(5,20)\n",
    "        offsetx = random.uniform(5, 20) * (math.pow(-1, random.randint(0,2)))\n",
    "        offsety = random.uniform(5, 20) * (math.pow(-1, random.randint(0,2)))\n",
    "        constant = random.uniform(0, 20) * (math.pow(-1, random.randint(0,2)))\n",
    "        for j in range(numpoints):\n",
    "            x = random.random() + offsetx\n",
    "            y = random.random() + offsety\n",
    "            c = random.random() + constant\n",
    "            multiplier = random.uniform(0,10)\n",
    "            row = list(map(lambda x: x * multiplier, [x, y, c]))\n",
    "            matrix += [row]\n",
    "    return np.array(matrix)"
   ]
  },
  {
   "cell_type": "code",
   "execution_count": 5,
   "metadata": {},
   "outputs": [],
   "source": [
    "# TODO - generalize for number of independent random variables\n",
    "def makedataNum(numclusters):\n",
    "    matrix = []\n",
    "    for i in range(numclusters):\n",
    "        numpoints = random.randint(5,20)\n",
    "        offsetx = random.uniform(5, 20) * (math.pow(-1, random.randint(0,2)))\n",
    "        offsety = random.uniform(5, 20) * (math.pow(-1, random.randint(0,2)))\n",
    "        constant = random.uniform(0, 20) * (math.pow(-1, random.randint(0,2)))\n",
    "        for j in range(numpoints):\n",
    "            x = random.random() + offsetx\n",
    "            y = random.random() + offsety\n",
    "            c = random.random() + constant\n",
    "            multiplier = random.uniform(0,10)\n",
    "            row = list(map(lambda x: x * multiplier, [x, y, c]))\n",
    "            matrix += [row]\n",
    "    return np.array(matrix)"
   ]
  },
  {
   "cell_type": "code",
   "execution_count": 6,
   "metadata": {},
   "outputs": [],
   "source": [
    "# Normalize each row of the matrix\n",
    "def normalize(matrix):\n",
    "    normMatrix = []\n",
    "    for i in range(len(matrix)):\n",
    "        vector = np.array(matrix[i][:(len(matrix[i]) - 1)])\n",
    "        norm = np.linalg.norm(vector)        \n",
    "        normVector = matrix[i] / norm\n",
    "        normMatrix += [normVector]\n",
    "    return np.array(normMatrix)\n"
   ]
  },
  {
   "cell_type": "code",
   "execution_count": 7,
   "metadata": {},
   "outputs": [],
   "source": [
    "# Plot sum of squared errors for k means clustering\n",
    "# for each k <= maxclusters\n",
    "# Elbow of graph = optimal number of clusters\n",
    "def bestkcluster(matrix, maxclusters):\n",
    "    sse = [] # sum of squared distances for each k\n",
    "    for k in range(1, maxclusters+1):\n",
    "        kmeans = KMeans(n_clusters=k, random_state=0).fit(matrix)\n",
    "        centers = kmeans.cluster_centers_\n",
    "        sse += [sum(np.min(cdist(matrix, centers, 'euclidean'), axis=1)) / matrix.shape[0]]\n",
    "    plt.plot(list(range(1,maxclusters+1)), sse)\n",
    "    plt.show()\n",
    "    \n",
    "# Find the clusters for k means clustering for a\n",
    "# given k. Use bestkcluster to find optimal k\n",
    "def kcluster(matrix, k):\n",
    "    kmeans = KMeans(n_clusters=k, random_state=0).fit(matrix)\n",
    "    return kmeans.cluster_centers_"
   ]
  },
  {
   "cell_type": "code",
   "execution_count": 30,
   "metadata": {},
   "outputs": [],
   "source": [
    "# Find the lines for the overdetermined system using LSM\n",
    "# Input: matrix with rows of the form ax + by = c\n",
    "# Output: square matrix\n",
    "def LSM(matrix):\n",
    "    # Reformat matrix to be Y = Ax for x[0] = c\n",
    "#     A = []\n",
    "#     for row in matrix:\n",
    "#         newrow = [row[2] / row[1], -1 * row[0] / row[1]]\n",
    "#         A += [newrow]\n",
    "    A = matrix[:, 0:2]\n",
    "    b = matrix[:, 2]\n",
    "    print(\"Shapes:\")\n",
    "    print(A.shape)\n",
    "    print(b.shape)\n",
    "    \n",
    "    # Compute B = (A.T A)\n",
    "    B = np.dot(np.transpose(A), A)\n",
    "    c = np.dot(np.transpose(A), b)\n",
    "    x = np.dot(np.linalg.inv(B), c)\n",
    "    return x\n",
    "    \n",
    "#     # Translate to lines ax + by = c into a matrix\n",
    "#     final = []\n",
    "#     for r in B:\n",
    "#         final += [[-1 * r[1], 1, r[0]]]\n",
    "#     return final\n",
    "    "
   ]
  },
  {
   "cell_type": "code",
   "execution_count": 9,
   "metadata": {},
   "outputs": [],
   "source": [
    "# When system is not overdetermined,\n",
    "# try to find solution\n",
    "def solution(matrix):\n",
    "    if len(matrix) != len(matrix[0]) - 1:\n",
    "        print(\"Overdetermined system\")\n",
    "    coefficients = [matrix[0][:len(matrix[0])-1], matrix[1][:len(matrix[1])-1]]\n",
    "    consts = [matrix[0][len(matrix[0])-1], matrix[1][len(matrix[1])-1]]\n",
    "    return np.linalg.solve(coefficients, consts)"
   ]
  },
  {
   "cell_type": "code",
   "execution_count": 10,
   "metadata": {},
   "outputs": [],
   "source": [
    "# Input: normalized matrix (see normalize function)\n",
    "# Relies on fact that 2D vectors\n",
    "def graphVectors(nmatrix):\n",
    "    X = []\n",
    "    Y = []\n",
    "    for i in range(len(nmatrix)):\n",
    "        X += [nmatrix[i][0]]\n",
    "        Y += [nmatrix[i][1]]\n",
    "    \n",
    "    origin = [0], [0]\n",
    "    plt.figure()\n",
    "    ax = plt.gca()\n",
    "    ax.quiver(*origin, X, Y, angles='xy', scale_units='xy', scale = 1)\n",
    "    ax.set_xlim(-1.1, 1.1)\n",
    "    ax.set_ylim(-1.1, 1.1)\n",
    "    plt.plot(0,0, 'ro')\n",
    "    plt.draw()\n",
    "    plt.show()"
   ]
  },
  {
   "cell_type": "code",
   "execution_count": 11,
   "metadata": {},
   "outputs": [],
   "source": [
    "# Graph output of k-means clustering\n",
    "def graphlines(equations):\n",
    "    x = np.linspace(-10, 10, 1000)\n",
    "    plt.figure()\n",
    "    for c in equations:\n",
    "        plt.plot(x, (c[2] - (x * c[0])) / c[1])\n",
    "    plt.show()"
   ]
  },
  {
   "cell_type": "code",
   "execution_count": 35,
   "metadata": {
    "scrolled": false
   },
   "outputs": [
    {
     "name": "stdout",
     "output_type": "stream",
     "text": [
      "Data found:\n",
      "[[ -4.33080367  14.12459695   9.29683277]\n",
      " [-22.25087971  71.91387055  49.68837201]\n",
      " [-33.61323981 109.39060475  74.09463383]\n",
      " [-35.2198333  102.42688203  73.38090862]\n",
      " [-62.55140601 199.41226428 137.85796206]\n",
      " [-31.01701685  98.36722103  70.54890791]\n",
      " [-60.47542458 191.20247187 129.7409289 ]\n",
      " [ -1.49160326   4.40292838   2.93905116]\n",
      " [-58.51179276 183.75446565 127.51908983]\n",
      " [-15.47754923  49.52550204  34.41499758]\n",
      " [-40.64100672 123.32204689  80.88729785]\n",
      " [ -4.59349286  13.94405932  10.02163918]\n",
      " [-16.69976275  49.43873369  33.7989657 ]\n",
      " [-57.46855299  74.5385744   89.93205436]\n",
      " [-21.5176292   27.301129    33.87395226]\n",
      " [-62.20570947  84.21502808  92.46975152]\n",
      " [-19.9231468   29.82944935  33.72245093]\n",
      " [-45.0071776   67.26715372  74.72553361]\n",
      " [-22.75891212  32.74577556  36.69437509]\n",
      " [-37.52979438  55.68567402  63.46467187]\n",
      " [-61.833316    86.33180837 102.48442076]\n",
      " [-18.30795249  27.13826502  30.35779063]]\n",
      "\n",
      "\n",
      "Lines\n"
     ]
    },
    {
     "data": {
      "image/png": "[encoded data removed]",
      "text/plain": [
       "<Figure size 432x288 with 1 Axes>"
      ]
     },
     "metadata": {},
     "output_type": "display_data"
    },
    {
     "name": "stdout",
     "output_type": "stream",
     "text": [
      "\n",
      "\n",
      "Normal Vectors:\n"
     ]
    },
    {
     "data": {
      "image/png": "[encoded data removed]",
      "text/plain": [
       "<Figure size 432x288 with 1 Axes>"
      ]
     },
     "metadata": {},
     "output_type": "display_data"
    },
    {
     "name": "stdout",
     "output_type": "stream",
     "text": [
      "Sum of Squared Errors for each k\n"
     ]
    },
    {
     "data": {
      "image/png": "[encoded data removed]",
      "text/plain": [
       "<Figure size 432x288 with 1 Axes>"
      ]
     },
     "metadata": {},
     "output_type": "display_data"
    },
    {
     "name": "stdout",
     "output_type": "stream",
     "text": [
      "Clusters found with k = 2:\n",
      "-0.305974773022063x + 0.9519742347649758y = 0.6549926903353467\n",
      "-0.5784853395848369x + 0.8151969699113428y = 0.9371384061236319\n",
      "\n",
      "\n",
      "Graph of lines from clusters:\n"
     ]
    },
    {
     "data": {
      "image/png": "[encoded data removed]",
      "text/plain": [
       "<Figure size 432x288 with 1 Axes>"
      ]
     },
     "metadata": {},
     "output_type": "display_data"
    },
    {
     "name": "stdout",
     "output_type": "stream",
     "text": [
      "Solution:\n",
      "[-1.1888986   0.30591134]\n",
      "\n",
      "\n",
      "Algebraic Solution\n",
      "Shapes:\n",
      "(22, 2)\n",
      "(22,)\n",
      "[-1.17987019  0.31013241]\n"
     ]
    }
   ],
   "source": [
    "# RUN SCRIPT\n",
    "if __name__ == \"__main__\":\n",
    "    numclusters = 2 # change number of clusters\n",
    "    data = makedataNum(numclusters) # Alternatively, readcsv(\"smalltestdata.csv\")\n",
    "    print(\"Data found:\")\n",
    "    print(data)\n",
    "    print(\"\\n\")\n",
    "    data = normalize(data)\n",
    "    print(\"Lines\")\n",
    "    graphlines(data)\n",
    "    print(\"\\n\")\n",
    "    \n",
    "    print(\"Normal Vectors:\")\n",
    "    graphVectors(data)\n",
    "    \n",
    "    print(\"Sum of Squared Errors for each k\")\n",
    "    bestkcluster(data, 10)\n",
    "    \n",
    "    cluster = kcluster(data, numclusters)\n",
    "    print(\"Clusters found with k = \" + str(numclusters) + \":\")\n",
    "    for c in cluster:\n",
    "        print(str(c[0]) + \"x + \" + str(c[1]) +\"y = \" + str(c[2]))\n",
    "    print(\"\\n\")\n",
    "    \n",
    "    print(\"Graph of lines from clusters:\")\n",
    "    graphlines(cluster)\n",
    "    print(\"Solution:\")\n",
    "    print(solution(cluster))\n",
    "    \n",
    "    print(\"\\n\")\n",
    "    print(\"Algebraic Solution\")\n",
    "    m = LSM(data)\n",
    "    print(m)\n",
    "#     for e in sqmatrix:\n",
    "#         print(str(e[0]) + \"x + \" + str(e[1]) + \"y = \" + str(e[2]))\n",
    "        \n",
    "#     print(\"Graph of lines from matrix:\")\n",
    "#     graphlines(sqmatrix)\n",
    "#     print(\"Solution:\")\n",
    "#     print(solution(sqmatrix))"
   ]
  },
  {
   "cell_type": "code",
   "execution_count": 31,
   "metadata": {},
   "outputs": [
    {
     "name": "stdout",
     "output_type": "stream",
     "text": [
      "Data found:\n",
      "[[ 30.11481026  21.24068031   2.96561036]\n",
      " [100.86789214  69.42535523  14.09639213]\n",
      " [116.510969    79.15956653  11.87104648]\n",
      " [138.65657963  97.20327233  14.99501968]\n",
      " [109.51979716  71.2916834   10.01422447]\n",
      " [149.93657007  99.53721421  21.1601839 ]\n",
      " [ 47.21169995  32.49593295   6.84417839]\n",
      " [ 44.19718838  29.48127636   4.41922347]\n",
      " [142.85883093  97.93218218  18.60576285]\n",
      " [ 29.28863249  20.43858557   3.19444185]\n",
      " [112.88044688  76.55233362  11.06391873]\n",
      " [ 80.27260789  52.31693674   8.79344955]\n",
      " [-44.20508438 -86.21816719 -84.21965023]\n",
      " [-38.31316793 -80.8517781  -78.00645278]\n",
      " [-13.47917075 -29.4308825  -30.66789654]\n",
      " [ -7.58107901 -14.60214163 -14.34094946]\n",
      " [-23.60829041 -48.93401647 -50.54897705]\n",
      " [-34.31524085 -74.61391878 -78.7294379 ]\n",
      " [ -6.48956974 -13.69104664 -14.69128409]\n",
      " [-35.93968582 -72.97336412 -69.65149547]\n",
      " [-35.1702769  -69.10861215 -72.08594876]]\n",
      "\n",
      "\n",
      "Shapes:\n",
      "(21, 2)\n",
      "(21,)\n",
      "[-0.83463284  1.40571424]\n"
     ]
    }
   ],
   "source": [
    "numclusters = 2 # change number of clusters\n",
    "data = makedataNum(numclusters) # Alternatively, readcsv(\"smalltestdata.csv\")\n",
    "print(\"Data found:\")\n",
    "print(data)\n",
    "print(\"\\n\")\n",
    "# data = normalize(data)\n",
    "# print(\"Lines\")\n",
    "# graphlines(data)\n",
    "# print(\"\\n\")\n",
    "\n",
    "m = LSM(data)\n",
    "print(m)"
   ]
  },
  {
   "cell_type": "code",
   "execution_count": null,
   "metadata": {},
   "outputs": [],
   "source": []
  }
 ],
 "metadata": {
  "kernelspec": {
   "display_name": "Python 3",
   "language": "python",
   "name": "python3"
  },
  "language_info": {
   "codemirror_mode": {
    "name": "ipython",
    "version": 3
   },
   "file_extension": ".py",
   "mimetype": "text/x-python",
   "name": "python",
   "nbconvert_exporter": "python",
   "pygments_lexer": "ipython3",
   "version": "3.6.5"
  }
 },
 "nbformat": 4,
 "nbformat_minor": 2
}
